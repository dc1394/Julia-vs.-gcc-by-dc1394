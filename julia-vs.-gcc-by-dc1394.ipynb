{
 "cells": [
  {
   "cell_type": "code",
   "execution_count": 1,
   "metadata": {},
   "outputs": [
    {
     "name": "stdout",
     "output_type": "stream",
     "text": [
      "VERSION = v\"1.5.3\"\n",
      "\n",
      "  1.086678 seconds\n",
      "  1.091920 seconds\n",
      "  1.094693 seconds\n"
     ]
    },
    {
     "data": {
      "text/plain": [
       "62525637013771113"
      ]
     },
     "execution_count": 1,
     "metadata": {},
     "output_type": "execute_result"
    }
   ],
   "source": [
    "@show VERSION\n",
    "\n",
    "function calc_julia()\n",
    "    total = 0\n",
    "\n",
    "    for i in 1:10^5\n",
    "        for j in 1:10^4\n",
    "            tmp = if j % 4 == 0\n",
    "                     i + j\n",
    "                  elseif j % 4 == 1\n",
    "                     i - j\n",
    "                  elseif j % 4 == 2\n",
    "                     i * j\n",
    "                  else\n",
    "                    i ÷ j\n",
    "                  end\n",
    "            total += tmp\n",
    "        end\n",
    "    end\n",
    "    \n",
    "    return total\n",
    "end\n",
    "\n",
    "println()\n",
    "@time calc_julia()\n",
    "@time calc_julia()\n",
    "@time calc_julia()"
   ]
  },
  {
   "cell_type": "code",
   "execution_count": 2,
   "metadata": {},
   "outputs": [
    {
     "name": "stdout",
     "output_type": "stream",
     "text": [
      "procs() = [1]\n",
      "rmprocs((procs())[2:end]) = Task (runnable) @0x00007f4da098f340\n",
      "addprocs() = [2, 3, 4, 5, 6, 7, 8, 9, 10, 11, 12, 13, 14, 15, 16, 17, 18, 19, 20, 21, 22, 23, 24, 25, 26, 27, 28, 29, 30, 31, 32, 33, 34, 35, 36, 37]\n",
      "procs() = [1, 2, 3, 4, 5, 6, 7, 8, 9, 10, 11, 12, 13, 14, 15, 16, 17, 18, 19, 20, 21, 22, 23, 24, 25, 26, 27, 28, 29, 30, 31, 32, 33, 34, 35, 36, 37]\n",
      "\n",
      "  0.776035 seconds (112.49 k allocations: 6.319 MiB)\n",
      "  0.097611 seconds (3.75 k allocations: 162.062 KiB)\n",
      "  0.087097 seconds (3.78 k allocations: 161.547 KiB)\n"
     ]
    },
    {
     "data": {
      "text/plain": [
       "62525637013771113"
      ]
     },
     "execution_count": 2,
     "metadata": {},
     "output_type": "execute_result"
    }
   ],
   "source": [
    "using Distributed\n",
    "\n",
    "@show procs()\n",
    "@show rmprocs(procs()[2:end])\n",
    "@show addprocs()\n",
    "@show procs()\n",
    "println()\n",
    "\n",
    "function calc_julia_distributed()\n",
    "    total = @distributed (+) for i in 1:10^5\n",
    "        tmp2 = 0\n",
    "\n",
    "        for j in 1:10^4\n",
    "            tmp = if j % 4 == 0\n",
    "                     i + j\n",
    "                  elseif j % 4 == 1\n",
    "                     i - j\n",
    "                  elseif j % 4 == 2\n",
    "                     i * j\n",
    "                  else\n",
    "                     i ÷ j\n",
    "                  end\n",
    "            tmp2 += tmp\n",
    "        end\n",
    "        tmp2\n",
    "    end\n",
    "\n",
    "    return total\n",
    "end\n",
    "\n",
    "@time calc_julia_distributed()\n",
    "@time calc_julia_distributed()\n",
    "@time calc_julia_distributed()"
   ]
  },
  {
   "cell_type": "code",
   "execution_count": null,
   "metadata": {},
   "outputs": [],
   "source": []
  }
 ],
 "metadata": {
  "kernelspec": {
   "display_name": "Julia 1.5.3",
   "language": "julia",
   "name": "julia-1.5"
  },
  "language_info": {
   "file_extension": ".jl",
   "mimetype": "application/julia",
   "name": "julia",
   "version": "1.5.3"
  }
 },
 "nbformat": 4,
 "nbformat_minor": 2
}
