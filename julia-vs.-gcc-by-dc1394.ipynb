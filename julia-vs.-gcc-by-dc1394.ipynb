{
 "cells": [
  {
   "cell_type": "code",
   "execution_count": 1,
   "metadata": {
    "scrolled": true
   },
   "outputs": [
    {
     "name": "stdout",
     "output_type": "stream",
     "text": [
      "VERSION = v\"1.5.3\"\n",
      "\n",
      "  1.085840 seconds\n",
      "  1.087936 seconds\n",
      "  1.085161 seconds\n"
     ]
    },
    {
     "data": {
      "text/plain": [
       "62525637013771113"
      ]
     },
     "execution_count": 1,
     "metadata": {},
     "output_type": "execute_result"
    }
   ],
   "source": [
    "@show VERSION\n",
    "\n",
    "function calc_julia()\n",
    "    tmp = 0\n",
    "    total = 0\n",
    "    for i in 1:10^5\n",
    "        for j in 1:10^4\n",
    "            if j % 4 == 0\n",
    "                tmp = i + j\n",
    "            elseif j % 4 == 1\n",
    "                tmp = i - j\n",
    "            elseif j % 4 == 2\n",
    "                tmp = i * j\n",
    "            else\n",
    "                tmp = i ÷ j\n",
    "            end\n",
    "            total += tmp\n",
    "        end\n",
    "    end\n",
    "    total\n",
    "end\n",
    "\n",
    "println()\n",
    "@time calc_julia()\n",
    "@time calc_julia()\n",
    "@time calc_julia()"
   ]
  },
  {
   "cell_type": "code",
   "execution_count": 6,
   "metadata": {},
   "outputs": [
    {
     "name": "stdout",
     "output_type": "stream",
     "text": [
      "VERSION = v\"1.5.3\"\n",
      "  1.046345 seconds (137.04 k allocations: 7.839 MiB)\n",
      "  0.320014 seconds (7.31 k allocations: 316.938 KiB)\n",
      "  0.317040 seconds (7.34 k allocations: 309.750 KiB)\n"
     ]
    },
    {
     "data": {
      "text/plain": [
       "62525637013771113"
      ]
     },
     "execution_count": 6,
     "metadata": {},
     "output_type": "execute_result"
    }
   ],
   "source": [
    "using Distributed\n",
    "@show VERSION\n",
    "addprocs(36)\n",
    "\n",
    "function calc_julia_distributed()\n",
    "    total = @distributed (+) for i in 1:10^5\n",
    "        tmp = Vector{Int64}(undef, 10^4)\n",
    "        for j in 1:10^4\n",
    "            tmp[j] = if j % 4 == 0\n",
    "                        i + j\n",
    "                     elseif j % 4 == 1\n",
    "                        i - j\n",
    "                     elseif j % 4 == 2\n",
    "                        i * j\n",
    "                     else\n",
    "                        i ÷ j\n",
    "                     end\n",
    "        end\n",
    "        sum(tmp)\n",
    "    end\n",
    "\n",
    "    return total\n",
    "end\n",
    "\n",
    "@time calc_julia_distributed()\n",
    "@time calc_julia_distributed()\n",
    "@time calc_julia_distributed()"
   ]
  },
  {
   "cell_type": "code",
   "execution_count": null,
   "metadata": {},
   "outputs": [],
   "source": []
  }
 ],
 "metadata": {
  "kernelspec": {
   "display_name": "Julia 1.5.3",
   "language": "julia",
   "name": "julia-1.5"
  },
  "language_info": {
   "file_extension": ".jl",
   "mimetype": "application/julia",
   "name": "julia",
   "version": "1.5.3"
  }
 },
 "nbformat": 4,
 "nbformat_minor": 2
}
